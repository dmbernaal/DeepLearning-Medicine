{
 "cells": [
  {
   "cell_type": "code",
   "execution_count": 0,
   "metadata": {
    "colab": {},
    "colab_type": "code",
    "id": "WQeyYguGMd5n"
   },
   "outputs": [],
   "source": []
  },
  {
   "cell_type": "markdown",
   "metadata": {
    "colab_type": "text",
    "id": "H-OiSjVglRxV"
   },
   "source": [
    "# Human Protein Atlas Image Classification\n",
    "Classify subcellular protein patterns in human cells \n",
    "\n",
    "Description from Kaggle: \n",
    "\n",
    "*Proteins are “the doers” in the human cell, executing many functions that together enable life. Historically, classification of proteins has been limited to single patterns in one or a few cell types, but in order to fully understand the complexity of the human cell, models must classify mixed patterns across a range of different human cells.*\n",
    "\n",
    "*Images visualizing proteins in cells are commonly used for biomedical research, and these cells could hold the key for the next breakthrough in medicine. However, thanks to advances in high-throughput microscopy, these images are generated at a far greater pace than what can be manually evaluated. Therefore, the need is greater than ever for automating biomedical image analysis to accelerate the understanding of human cells and disease.*\n",
    "\n",
    "This **notebook** Is run through the **Google Colab** notebook. Make sure to click\n",
    "Runtime --> Change runtime type --> Hardware Accelerator--> **GPU**"
   ]
  },
  {
   "cell_type": "markdown",
   "metadata": {
    "colab_type": "text",
    "id": "AoxpsQmsly-x"
   },
   "source": [
    "## What we will do\n",
    "We will be utilizing **Fastai v1.0** library. \n",
    "\n",
    "Steps will be: \n",
    "* Installing packages & libraries\n",
    "* Downloading data from kaggle - You will need a Kaggle account, grab your API key and Accept terms for the competition\n",
    "* Evaluate and preprocess data\n",
    "* Create data transformations & data augmentations\n",
    "* Create our first data object (sz=64)\n",
    "* Define metrics to measure (F-Score)\n",
    "* Create our first model (Pre-trained resnet34)\n",
    "  * Find optimal learning rate\n",
    "  * Train with optimal learning rate\n",
    "  * Unfreeze all layers - allowing us to update all parameters\n",
    "  * Find optimal learning rates\n",
    "  * Train model once more with learning rate differentials (a range)\n",
    "* Create a new data object, this time with (sz=128)\n",
    "  * Freeze all layers - training last few layers only\n",
    "  * Find optimal learning rate\n",
    "  * Train model with optimal learning rate\n",
    "  * Unfreeze all layers - allowing us to update all parameters\n",
    "  * Find optimal learning rates\n",
    "  * Train model once more with learning rate differentials (a range)\n",
    "* Create another data object, (sz=256)\n",
    "  * Freeze all layers\n",
    "  * Find optimal learning rate\n",
    "  * Train model with new optimal learning rate\n",
    "  * Unfreeze layers\n",
    "  * Find optimal learning rates\n",
    "  * Train model once more with learning rate differentials\n",
    "* Let's now observe our top losses\n",
    "  * What can we conclude from our data?\n",
    "  * What can we do to improve our data?\n",
    "* Test with valid dataset"
   ]
  },
  {
   "cell_type": "markdown",
   "metadata": {
    "colab_type": "text",
    "id": "ZKpDD04ppQnu"
   },
   "source": [
    "### 1. Installing Packages & Libraries\n",
    "The very first thing is getting set up with Kaggle, downloading the Fastai library and other necessary libraries"
   ]
  },
  {
   "cell_type": "code",
   "execution_count": 0,
   "metadata": {
    "colab": {},
    "colab_type": "code",
    "id": "XUx36Aq2n0mH"
   },
   "outputs": [],
   "source": [
    "# Installing Kaggle API\n",
    "!pip install kaggle --upgrade"
   ]
  },
  {
   "cell_type": "code",
   "execution_count": 0,
   "metadata": {
    "colab": {},
    "colab_type": "code",
    "id": "3LasWRvYphW8"
   },
   "outputs": [],
   "source": [
    "# Installing fastai v1.0 library\n",
    "!pip install fastai"
   ]
  },
  {
   "cell_type": "code",
   "execution_count": 0,
   "metadata": {
    "colab": {},
    "colab_type": "code",
    "id": "No4bU7RFplgD"
   },
   "outputs": [],
   "source": [
    "# PRIVATE\n",
    "kaggle_cred = {\"username\":\"USERNAME\",\"key\":\"KEY\"}"
   ]
  },
  {
   "cell_type": "code",
   "execution_count": 0,
   "metadata": {
    "colab": {},
    "colab_type": "code",
    "id": "jp2ZK38kq8us"
   },
   "outputs": [],
   "source": [
    "# Creating kaggle directory (will store credentials)\n",
    "!mkdir .kaggle"
   ]
  },
  {
   "cell_type": "code",
   "execution_count": 0,
   "metadata": {
    "colab": {},
    "colab_type": "code",
    "id": "BnO-GTKzrCZK"
   },
   "outputs": [],
   "source": [
    "# Dumping credentials into kaggle directory\n",
    "import json\n",
    "\n",
    "cred = json.dumps(kaggle_cred)\n",
    "\n",
    "with open('.kaggle/kaggle.json', 'w') as f:\n",
    "  f.write(cred)"
   ]
  },
  {
   "cell_type": "code",
   "execution_count": 0,
   "metadata": {
    "colab": {},
    "colab_type": "code",
    "id": "rv_3zu6Qrs0q"
   },
   "outputs": [],
   "source": [
    "!cp .kaggle/kaggle.json ~/.kaggle/kaggle.json\n",
    "!kaggle config set -n path -v{/content}"
   ]
  },
  {
   "cell_type": "code",
   "execution_count": 0,
   "metadata": {
    "colab": {},
    "colab_type": "code",
    "id": "TY1GbIDbrOl6"
   },
   "outputs": [],
   "source": [
    "# Let's now configure the kaggle credentials - This needs to run TWICE hence duplication (running once will cause an error (only on google colab))\n",
    "!cp .kaggle/kaggle.json ~/.kaggle/kaggle.json\n",
    "!kaggle config set -n path -v{/content}"
   ]
  },
  {
   "cell_type": "code",
   "execution_count": 0,
   "metadata": {
    "colab": {},
    "colab_type": "code",
    "id": "HRMg9Paorv-y"
   },
   "outputs": [],
   "source": [
    "# Let's now make it private as there is an error indicating our API key is readable by other users\n",
    "!chmod 600 /root/.kaggle/kaggle.json"
   ]
  },
  {
   "cell_type": "markdown",
   "metadata": {
    "colab_type": "text",
    "id": "MjFQUq7BsP3n"
   },
   "source": [
    "### 2. Downloading the data from kaggle\n",
    "Make sure you have installed the Kaggle API and have created a kaggle.json file with your credentials otherwise the following code will not work. "
   ]
  },
  {
   "cell_type": "code",
   "execution_count": 0,
   "metadata": {
    "colab": {},
    "colab_type": "code",
    "id": "o9aKPap6xMcy"
   },
   "outputs": [],
   "source": [
    "# Creating test and train directories - will store images\n",
    "!mkdir /content/test | mkdir /content/train"
   ]
  },
  {
   "cell_type": "code",
   "execution_count": 0,
   "metadata": {
    "colab": {},
    "colab_type": "code",
    "id": "Pdvg0e_isZNz"
   },
   "outputs": [],
   "source": [
    "# Path to our current working directory\n",
    "PATH = '/content'\n",
    "PATH_TRAIN = '/content/train'\n",
    "PATH_TEST = '/content/test'"
   ]
  },
  {
   "cell_type": "code",
   "execution_count": 0,
   "metadata": {
    "colab": {},
    "colab_type": "code",
    "id": "nj30zweAseIi"
   },
   "outputs": [],
   "source": [
    "# Downloading the data we need for the comeptiton Test & Training images\n",
    "!kaggle competitions download -c human-protein-atlas-image-classification -f train.zip -p {PATH}\n",
    "!kaggle competitions download -c human-protein-atlas-image-classification -f test.zip -p {PATH}\n"
   ]
  },
  {
   "cell_type": "code",
   "execution_count": 0,
   "metadata": {
    "colab": {},
    "colab_type": "code",
    "id": "e9Vyz5-ktCLV"
   },
   "outputs": [],
   "source": [
    "# Downloading CVS file with labels\n",
    "!kaggle competitions download -c human-protein-atlas-image-classification -f train.csv -p {PATH}"
   ]
  },
  {
   "cell_type": "code",
   "execution_count": 0,
   "metadata": {
    "colab": {},
    "colab_type": "code",
    "id": "KbCaDcrxt2Ga"
   },
   "outputs": [],
   "source": [
    "# Let's now check our current dictory to see if we have all files\n",
    "import os\n",
    "\n",
    "os.listdir(PATH)"
   ]
  },
  {
   "cell_type": "code",
   "execution_count": 0,
   "metadata": {
    "colab": {},
    "colab_type": "code",
    "id": "oQXZ3_v3uC7X"
   },
   "outputs": [],
   "source": [
    "# Now we have to unzip our data and store in current directory\n",
    "!unzip -q -n {PATH}/train.zip -d {PATH_TRAIN}\n",
    "!unzip -q -n {PATH}/test.zip -d {PATH_TEST}"
   ]
  },
  {
   "cell_type": "code",
   "execution_count": 0,
   "metadata": {
    "colab": {},
    "colab_type": "code",
    "id": "7-XvE1ryz9Xp"
   },
   "outputs": [],
   "source": [
    "# Uncomment lines to check directories \n",
    "\n",
    "os.listdir(PATH)\n",
    "# os.listdir(PATH_TRAIN)\n",
    "# os.listdir(PATH_TEST)"
   ]
  },
  {
   "cell_type": "code",
   "execution_count": 16,
   "metadata": {
    "colab": {
     "base_uri": "https://localhost:8080/",
     "height": 35
    },
    "colab_type": "code",
    "id": "dZ--E_TG0T9U",
    "outputId": "816316fe-3ff0-4004-f4c0-af2c29b6f406"
   },
   "outputs": [
    {
     "data": {
      "text/plain": [
       "['.config', '.kaggle', 'train', 'train.csv', 'test', 'sample_data']"
      ]
     },
     "execution_count": 16,
     "metadata": {
      "tags": []
     },
     "output_type": "execute_result"
    }
   ],
   "source": [
    "# Let's clear up some space by removing the zip files (taking up much space)\n",
    "os.remove(f'{PATH}/train.zip')\n",
    "os.remove(f'{PATH}/test.zip')\n",
    "\n",
    "os.listdir(PATH)"
   ]
  },
  {
   "cell_type": "code",
   "execution_count": 0,
   "metadata": {
    "colab": {},
    "colab_type": "code",
    "id": "YvE3Dgo90n4i"
   },
   "outputs": [],
   "source": []
  },
  {
   "cell_type": "markdown",
   "metadata": {
    "colab_type": "text",
    "id": "E9TIgeio2SzE"
   },
   "source": [
    "### 3. Exploring Data\n",
    "Now that we have downloaded all our data and placed them into their appropriate directories, let's take some time to understand what the data is"
   ]
  },
  {
   "cell_type": "code",
   "execution_count": 0,
   "metadata": {
    "colab": {},
    "colab_type": "code",
    "id": "VR3WhldJ2cA9"
   },
   "outputs": [],
   "source": [
    "# Importing pandas and fastai.vision\n",
    "import pandas as pd\n",
    "from fastai.vision import *"
   ]
  },
  {
   "cell_type": "code",
   "execution_count": 0,
   "metadata": {
    "colab": {},
    "colab_type": "code",
    "id": "qkfiOlpf2gO7"
   },
   "outputs": [],
   "source": [
    "# Let's read the csv into a pandas dataframe\n",
    "labels = pd.read_csv(f'{PATH}/train.csv')"
   ]
  },
  {
   "cell_type": "code",
   "execution_count": 19,
   "metadata": {
    "colab": {
     "base_uri": "https://localhost:8080/",
     "height": 359
    },
    "colab_type": "code",
    "id": "NQYUJNcX2xLy",
    "outputId": "e6dc8f0b-791b-4466-8ebb-eb0a4f142598"
   },
   "outputs": [
    {
     "data": {
      "text/html": [
       "<div>\n",
       "<style scoped>\n",
       "    .dataframe tbody tr th:only-of-type {\n",
       "        vertical-align: middle;\n",
       "    }\n",
       "\n",
       "    .dataframe tbody tr th {\n",
       "        vertical-align: top;\n",
       "    }\n",
       "\n",
       "    .dataframe thead th {\n",
       "        text-align: right;\n",
       "    }\n",
       "</style>\n",
       "<table border=\"1\" class=\"dataframe\">\n",
       "  <thead>\n",
       "    <tr style=\"text-align: right;\">\n",
       "      <th></th>\n",
       "      <th>Id</th>\n",
       "      <th>Target</th>\n",
       "    </tr>\n",
       "  </thead>\n",
       "  <tbody>\n",
       "    <tr>\n",
       "      <th>0</th>\n",
       "      <td>00070df0-bbc3-11e8-b2bc-ac1f6b6435d0</td>\n",
       "      <td>16 0</td>\n",
       "    </tr>\n",
       "    <tr>\n",
       "      <th>1</th>\n",
       "      <td>000a6c98-bb9b-11e8-b2b9-ac1f6b6435d0</td>\n",
       "      <td>7 1 2 0</td>\n",
       "    </tr>\n",
       "    <tr>\n",
       "      <th>2</th>\n",
       "      <td>000a9596-bbc4-11e8-b2bc-ac1f6b6435d0</td>\n",
       "      <td>5</td>\n",
       "    </tr>\n",
       "    <tr>\n",
       "      <th>3</th>\n",
       "      <td>000c99ba-bba4-11e8-b2b9-ac1f6b6435d0</td>\n",
       "      <td>1</td>\n",
       "    </tr>\n",
       "    <tr>\n",
       "      <th>4</th>\n",
       "      <td>001838f8-bbca-11e8-b2bc-ac1f6b6435d0</td>\n",
       "      <td>18</td>\n",
       "    </tr>\n",
       "    <tr>\n",
       "      <th>5</th>\n",
       "      <td>001bcdd2-bbb2-11e8-b2ba-ac1f6b6435d0</td>\n",
       "      <td>0</td>\n",
       "    </tr>\n",
       "    <tr>\n",
       "      <th>6</th>\n",
       "      <td>0020af02-bbba-11e8-b2ba-ac1f6b6435d0</td>\n",
       "      <td>25 2</td>\n",
       "    </tr>\n",
       "    <tr>\n",
       "      <th>7</th>\n",
       "      <td>002679c2-bbb6-11e8-b2ba-ac1f6b6435d0</td>\n",
       "      <td>0</td>\n",
       "    </tr>\n",
       "    <tr>\n",
       "      <th>8</th>\n",
       "      <td>00285ce4-bba0-11e8-b2b9-ac1f6b6435d0</td>\n",
       "      <td>2 0</td>\n",
       "    </tr>\n",
       "    <tr>\n",
       "      <th>9</th>\n",
       "      <td>002daad6-bbc9-11e8-b2bc-ac1f6b6435d0</td>\n",
       "      <td>7</td>\n",
       "    </tr>\n",
       "  </tbody>\n",
       "</table>\n",
       "</div>"
      ],
      "text/plain": [
       "                                     Id   Target\n",
       "0  00070df0-bbc3-11e8-b2bc-ac1f6b6435d0     16 0\n",
       "1  000a6c98-bb9b-11e8-b2b9-ac1f6b6435d0  7 1 2 0\n",
       "2  000a9596-bbc4-11e8-b2bc-ac1f6b6435d0        5\n",
       "3  000c99ba-bba4-11e8-b2b9-ac1f6b6435d0        1\n",
       "4  001838f8-bbca-11e8-b2bc-ac1f6b6435d0       18\n",
       "5  001bcdd2-bbb2-11e8-b2ba-ac1f6b6435d0        0\n",
       "6  0020af02-bbba-11e8-b2ba-ac1f6b6435d0     25 2\n",
       "7  002679c2-bbb6-11e8-b2ba-ac1f6b6435d0        0\n",
       "8  00285ce4-bba0-11e8-b2b9-ac1f6b6435d0      2 0\n",
       "9  002daad6-bbc9-11e8-b2bc-ac1f6b6435d0        7"
      ]
     },
     "execution_count": 19,
     "metadata": {
      "tags": []
     },
     "output_type": "execute_result"
    }
   ],
   "source": [
    "labels.head(10)"
   ]
  },
  {
   "cell_type": "markdown",
   "metadata": {
    "colab_type": "text",
    "id": "ArN_Uvnx3MPP"
   },
   "source": [
    "#### Target Id values\n",
    "0.  Nucleoplasm  \n",
    "1.  Nuclear membrane   \n",
    "2.  Nucleoli   \n",
    "3.  Nucleoli fibrillar center   \n",
    "4.  Nuclear speckles   \n",
    "5.  Nuclear bodies   \n",
    "6.  Endoplasmic reticulum   \n",
    "7.  Golgi apparatus   \n",
    "8.  Peroxisomes   \n",
    "9.  Endosomes   \n",
    "10.  Lysosomes   \n",
    "11.  Intermediate filaments   \n",
    "12.  Actin filaments   \n",
    "13.  Focal adhesion sites   \n",
    "14.  Microtubules   \n",
    "15.  Microtubule ends   \n",
    "16.  Cytokinetic bridge   \n",
    "17.  Mitotic spindle   \n",
    "18.  Microtubule organizing center   \n",
    "19.  Centrosome   \n",
    "20.  Lipid droplets   \n",
    "21.  Plasma membrane   \n",
    "22.  Cell junctions   \n",
    "23.  Mitochondria   \n",
    "24.  Aggresome   \n",
    "25.  Cytosol   \n",
    "26.  Cytoplasmic bodies   \n",
    "27.  Rods & rings "
   ]
  },
  {
   "cell_type": "markdown",
   "metadata": {
    "colab_type": "text",
    "id": "kNDvMO8K3TYR"
   },
   "source": [
    "So, from looking at this csv, we can see that each image has corresponding targets. Which would make sense since these cell contains different organelles \n",
    "\n",
    "(DISCLAIMER: I am not a biologist, though I did study Neurobiology in College)"
   ]
  },
  {
   "cell_type": "code",
   "execution_count": 20,
   "metadata": {
    "colab": {
     "base_uri": "https://localhost:8080/",
     "height": 143
    },
    "colab_type": "code",
    "id": "BhJhygIC3g9H",
    "outputId": "86156d97-3be3-4047-adac-4030f1bd35a0"
   },
   "outputs": [
    {
     "name": "stdout",
     "output_type": "stream",
     "text": [
      "<class 'pandas.core.frame.DataFrame'>\n",
      "RangeIndex: 31072 entries, 0 to 31071\n",
      "Data columns (total 2 columns):\n",
      "Id        31072 non-null object\n",
      "Target    31072 non-null object\n",
      "dtypes: object(2)\n",
      "memory usage: 485.6+ KB\n"
     ]
    }
   ],
   "source": [
    "labels.info()"
   ]
  },
  {
   "cell_type": "markdown",
   "metadata": {
    "colab_type": "text",
    "id": "iz_6aDu16S7y"
   },
   "source": [
    "### 4. Creating data object\n",
    "We will now begin utilizing the fastai v1.0 library to further look at the data and eventually build and train our models \n",
    "\n",
    "The very first thing we need to figure out is: *What sort of transformations and data augmentations should we apply to our data?* \n",
    "\n",
    "This is unique question for every dataset we tackle\n",
    "\n",
    "Next, we will apply those and create a *data*  object using the *datablock API* which is provided by the fastai 1.0 library\n",
    "\n",
    "Some research gives us some pointers as to some augmentation strategies to implement [Link to paper](https://www.ncbi.nlm.nih.gov/pmc/articles/PMC5977656/):\n",
    "\n",
    "Since we are utilizing fastai version 1.0 we will be using the **get_transform** [Link to documentation](https://docs.fast.ai/vision.transform.html) \n",
    "\n",
    "We will be using: \n",
    "* do_flip=True\n",
    "* flip_vert=True\n",
    "* max_rotation = default, we will later experiment with different values\n",
    "* max_zoom = default, we will later experiment with different values"
   ]
  },
  {
   "cell_type": "code",
   "execution_count": 0,
   "metadata": {
    "colab": {},
    "colab_type": "code",
    "id": "FZQzvwDVc_Au"
   },
   "outputs": [],
   "source": [
    "# Setting transformation parameters\n",
    "\n",
    "do_flip = True\n",
    "flip_vert = True\n",
    "max_rotate = 10.0\n",
    "max_zoom = 1.05 # not default, but will start smaller\n",
    "\n",
    "# Creating our transformation object\n",
    "tfms = get_transforms(do_flip=do_flip, flip_vert=flip_vert, max_rotate=max_rotate, max_zoom=max_zoom)\n"
   ]
  },
  {
   "cell_type": "code",
   "execution_count": 0,
   "metadata": {
    "colab": {},
    "colab_type": "code",
    "id": "ubgk8ZOg0xlm"
   },
   "outputs": [],
   "source": [
    "# Creating our first data object using datablock API\n",
    "\n",
    "np.random.seed(42)\n",
    "\n",
    "sz = 64 # we will begin with a small size, every data object we create will be larger\n",
    "data = (ImageItemList.from_csv('/content', 'train.csv', folder='train', suffix='_green.png')\n",
    "        .random_split_by_pct(0.2)  # 20% will be split into a valid set\n",
    "        .label_from_df(sep=' ')\n",
    "        .transform(tfms, size=sz)\n",
    "        .databunch().normalize(imagenet_stats))"
   ]
  },
  {
   "cell_type": "code",
   "execution_count": 28,
   "metadata": {
    "colab": {
     "base_uri": "https://localhost:8080/",
     "height": 389
    },
    "colab_type": "code",
    "id": "DKbhLMrZejJq",
    "outputId": "082e872d-ceb5-4102-f435-4204a7899faa"
   },
   "outputs": [
    {
     "data": {
      "image/png": "[encoded data removed]",
      "text/plain": [
       "<matplotlib.figure.Figure at 0x7f912241e780>"
      ]
     },
     "metadata": {
      "tags": []
     },
     "output_type": "display_data"
    }
   ],
   "source": [
    "# Let's check some of the data\n",
    "ds = data.train_ds\n",
    "img, label = ds[19]\n",
    "img.show(figsize=(6,6), title=label)"
   ]
  },
  {
   "cell_type": "code",
   "execution_count": 29,
   "metadata": {
    "colab": {
     "base_uri": "https://localhost:8080/",
     "height": 1465
    },
    "colab_type": "code",
    "id": "velT2N07mQLn",
    "outputId": "e1becbae-4b77-4e21-8ad1-2c47a7d00ca3"
   },
   "outputs": [
    {
     "data": {
      "image/png": "[encoded data removed]",
      "text/plain": [
       "<matplotlib.figure.Figure at 0x7f907c32a400>"
      ]
     },
     "metadata": {
      "tags": []
     },
     "output_type": "display_data"
    }
   ],
   "source": [
    "data.show_batch()"
   ]
  },
  {
   "cell_type": "code",
   "execution_count": 0,
   "metadata": {
    "colab": {},
    "colab_type": "code",
    "id": "riPZbXQBm49X"
   },
   "outputs": [],
   "source": [
    "# Setting metrics to measure\n",
    "acc = partial(accuracy_thresh, thresh=0.2)\n",
    "f_score = partial(fbeta, thresh=0.2)"
   ]
  },
  {
   "cell_type": "markdown",
   "metadata": {
    "colab_type": "text",
    "id": "ExN69ZH1nW89"
   },
   "source": [
    "### 5. Creating simple model\n",
    "To begin we will be using a pretrained resnet34 model we will \n",
    "* find optimal learning rate\n",
    "* train with optimal learning rate, 5 epochs\n",
    "* unfreeze layers - so we adjust all parameters\n",
    "* find optimal learning rates\n",
    "* train with differential (range) of learning rates"
   ]
  },
  {
   "cell_type": "code",
   "execution_count": 0,
   "metadata": {
    "colab": {},
    "colab_type": "code",
    "id": "iHS5DroZnaVp"
   },
   "outputs": [],
   "source": [
    "# Selecting Arch\n",
    "arch = models.resnet34"
   ]
  },
  {
   "cell_type": "code",
   "execution_count": 0,
   "metadata": {
    "colab": {},
    "colab_type": "code",
    "id": "YughKPm4oa1V"
   },
   "outputs": [],
   "source": [
    "# Creating our learner\n",
    "learn = create_cnn(data, arch, metrics=[acc, f_score])"
   ]
  },
  {
   "cell_type": "code",
   "execution_count": 44,
   "metadata": {
    "colab": {
     "base_uri": "https://localhost:8080/",
     "height": 453
    },
    "colab_type": "code",
    "id": "hL9QWHNHoilc",
    "outputId": "f5a48946-d270-4d99-d4ea-084072b3ed0f"
   },
   "outputs": [
    {
     "data": {
      "text/html": [
       "\n",
       "    <div>\n",
       "        <style>\n",
       "            /* Turns off some styling */\n",
       "            progress {\n",
       "                /* gets rid of default border in Firefox and Opera. */\n",
       "                border: none;\n",
       "                /* Needs to be in here for Safari polyfill so background images work as expected. */\n",
       "                background-size: auto;\n",
       "            }\n",
       "            .progress-bar-interrupted, .progress-bar-interrupted::-webkit-progress-bar {\n",
       "                background: #F44336;\n",
       "            }\n",
       "        </style>\n",
       "      <progress value='0' class='' max='1', style='width:300px; height:20px; vertical-align: middle;'></progress>\n",
       "      0.00% [0/1 00:00<00:00]\n",
       "    </div>\n",
       "    \n",
       "<table style='width:375px; margin-bottom:10px'>\n",
       "  <tr>\n",
       "    <th>epoch</th>\n",
       "    <th>train_loss</th>\n",
       "    <th>valid_loss</th>\n",
       "    <th>accuracy_thresh</th>\n",
       "    <th>fbeta</th>\n",
       "  </tr>\n",
       "</table>\n",
       "\n",
       "\n",
       "    <div>\n",
       "        <style>\n",
       "            /* Turns off some styling */\n",
       "            progress {\n",
       "                /* gets rid of default border in Firefox and Opera. */\n",
       "                border: none;\n",
       "                /* Needs to be in here for Safari polyfill so background images work as expected. */\n",
       "                background-size: auto;\n",
       "            }\n",
       "            .progress-bar-interrupted, .progress-bar-interrupted::-webkit-progress-bar {\n",
       "                background: #F44336;\n",
       "            }\n",
       "        </style>\n",
       "      <progress value='0' class='progress-bar-interrupted' max='388', style='width:300px; height:20px; vertical-align: middle;'></progress>\n",
       "      Interrupted\n",
       "    </div>\n",
       "    "
      ],
      "text/plain": [
       "<IPython.core.display.HTML object>"
      ]
     },
     "metadata": {
      "tags": []
     },
     "output_type": "display_data"
    },
    {
     "name": "stdout",
     "output_type": "stream",
     "text": [
      "LR Finder is complete, type {learner_name}.recorder.plot() to see the graph.\n"
     ]
    },
    {
     "data": {
      "image/png": "[encoded data removed]",
      "text/plain": [
       "<matplotlib.figure.Figure at 0x7f910dfe0550>"
      ]
     },
     "metadata": {
      "tags": []
     },
     "output_type": "display_data"
    }
   ],
   "source": [
    "# Finding optimal learning rate \n",
    "learn.freeze()\n",
    "learn.lr_find()\n",
    "learn.recorder.plot()"
   ]
  },
  {
   "cell_type": "code",
   "execution_count": 0,
   "metadata": {
    "colab": {},
    "colab_type": "code",
    "id": "w38QIsxbom-a"
   },
   "outputs": [],
   "source": [
    "# seleting lr\n",
    "lr = 0.07"
   ]
  },
  {
   "cell_type": "code",
   "execution_count": 46,
   "metadata": {
    "colab": {
     "base_uri": "https://localhost:8080/",
     "height": 178
    },
    "colab_type": "code",
    "id": "Fs2g9MCyo7u_",
    "outputId": "55ce6757-90e5-40d2-9388-f5a05a7b5b6f"
   },
   "outputs": [
    {
     "data": {
      "text/html": [
       "Total time: 20:45 <p><table style='width:375px; margin-bottom:10px'>\n",
       "  <tr>\n",
       "    <th>epoch</th>\n",
       "    <th>train_loss</th>\n",
       "    <th>valid_loss</th>\n",
       "    <th>accuracy_thresh</th>\n",
       "    <th>fbeta</th>\n",
       "  </tr>\n",
       "  <tr>\n",
       "    <th>1</th>\n",
       "    <th>0.175762</th>\n",
       "    <th>0.173279</th>\n",
       "    <th>0.923882</th>\n",
       "    <th>0.406450</th>\n",
       "  </tr>\n",
       "  <tr>\n",
       "    <th>2</th>\n",
       "    <th>0.183214</th>\n",
       "    <th>0.243944</th>\n",
       "    <th>0.920738</th>\n",
       "    <th>0.370296</th>\n",
       "  </tr>\n",
       "  <tr>\n",
       "    <th>3</th>\n",
       "    <th>0.173306</th>\n",
       "    <th>0.198584</th>\n",
       "    <th>0.931733</th>\n",
       "    <th>0.411447</th>\n",
       "  </tr>\n",
       "  <tr>\n",
       "    <th>4</th>\n",
       "    <th>0.158000</th>\n",
       "    <th>0.183928</th>\n",
       "    <th>0.928905</th>\n",
       "    <th>0.453772</th>\n",
       "  </tr>\n",
       "  <tr>\n",
       "    <th>5</th>\n",
       "    <th>0.153156</th>\n",
       "    <th>0.153307</th>\n",
       "    <th>0.935158</th>\n",
       "    <th>0.465867</th>\n",
       "  </tr>\n",
       "</table>\n"
      ],
      "text/plain": [
       "<IPython.core.display.HTML object>"
      ]
     },
     "metadata": {
      "tags": []
     },
     "output_type": "display_data"
    }
   ],
   "source": [
    "# 1st training\n",
    "learn.fit_one_cycle(5, slice(lr))"
   ]
  },
  {
   "cell_type": "code",
   "execution_count": 0,
   "metadata": {
    "colab": {},
    "colab_type": "code",
    "id": "9MHTBccrpDxu"
   },
   "outputs": [],
   "source": [
    "# Let's save the model\n",
    "learn.save('stage-1.01-64-resnet34')"
   ]
  },
  {
   "cell_type": "code",
   "execution_count": 0,
   "metadata": {
    "colab": {},
    "colab_type": "code",
    "id": "9SeQlhVSx7II"
   },
   "outputs": [],
   "source": [
    "# Unfreeze all layers\n",
    "learn.unfreeze()"
   ]
  },
  {
   "cell_type": "code",
   "execution_count": 49,
   "metadata": {
    "colab": {
     "base_uri": "https://localhost:8080/",
     "height": 453
    },
    "colab_type": "code",
    "id": "dG_mpKF8x9kX",
    "outputId": "19b2c6d2-f760-4a42-9bcb-2be091c7c7c6"
   },
   "outputs": [
    {
     "data": {
      "text/html": [
       "\n",
       "    <div>\n",
       "        <style>\n",
       "            /* Turns off some styling */\n",
       "            progress {\n",
       "                /* gets rid of default border in Firefox and Opera. */\n",
       "                border: none;\n",
       "                /* Needs to be in here for Safari polyfill so background images work as expected. */\n",
       "                background-size: auto;\n",
       "            }\n",
       "            .progress-bar-interrupted, .progress-bar-interrupted::-webkit-progress-bar {\n",
       "                background: #F44336;\n",
       "            }\n",
       "        </style>\n",
       "      <progress value='0' class='' max='1', style='width:300px; height:20px; vertical-align: middle;'></progress>\n",
       "      0.00% [0/1 00:00<00:00]\n",
       "    </div>\n",
       "    \n",
       "<table style='width:375px; margin-bottom:10px'>\n",
       "  <tr>\n",
       "    <th>epoch</th>\n",
       "    <th>train_loss</th>\n",
       "    <th>valid_loss</th>\n",
       "    <th>accuracy_thresh</th>\n",
       "    <th>fbeta</th>\n",
       "  </tr>\n",
       "</table>\n",
       "\n",
       "\n",
       "    <div>\n",
       "        <style>\n",
       "            /* Turns off some styling */\n",
       "            progress {\n",
       "                /* gets rid of default border in Firefox and Opera. */\n",
       "                border: none;\n",
       "                /* Needs to be in here for Safari polyfill so background images work as expected. */\n",
       "                background-size: auto;\n",
       "            }\n",
       "            .progress-bar-interrupted, .progress-bar-interrupted::-webkit-progress-bar {\n",
       "                background: #F44336;\n",
       "            }\n",
       "        </style>\n",
       "      <progress value='0' class='progress-bar-interrupted' max='388', style='width:300px; height:20px; vertical-align: middle;'></progress>\n",
       "      Interrupted\n",
       "    </div>\n",
       "    "
      ],
      "text/plain": [
       "<IPython.core.display.HTML object>"
      ]
     },
     "metadata": {
      "tags": []
     },
     "output_type": "display_data"
    },
    {
     "name": "stdout",
     "output_type": "stream",
     "text": [
      "LR Finder is complete, type {learner_name}.recorder.plot() to see the graph.\n"
     ]
    },
    {
     "data": {
      "image/png": "[encoded data removed]",
      "text/plain": [
       "<matplotlib.figure.Figure at 0x7f90761c3710>"
      ]
     },
     "metadata": {
      "tags": []
     },
     "output_type": "display_data"
    }
   ],
   "source": [
    "# Finding optimal learning rates\n",
    "learn.lr_find()\n",
    "learn.recorder.plot()"
   ]
  },
  {
   "cell_type": "code",
   "execution_count": 0,
   "metadata": {
    "colab": {},
    "colab_type": "code",
    "id": "7NA7k8_h6I__"
   },
   "outputs": [],
   "source": [
    "# Defining range of learning rates\n",
    "lr1 = 0.00001\n",
    "lr2 = 0.001"
   ]
  },
  {
   "cell_type": "code",
   "execution_count": 58,
   "metadata": {
    "colab": {
     "base_uri": "https://localhost:8080/",
     "height": 178
    },
    "colab_type": "code",
    "id": "5ogady-J7I_e",
    "outputId": "ac652613-7e11-48e6-f222-7dd05ae96374"
   },
   "outputs": [
    {
     "data": {
      "text/html": [
       "Total time: 21:23 <p><table style='width:375px; margin-bottom:10px'>\n",
       "  <tr>\n",
       "    <th>epoch</th>\n",
       "    <th>train_loss</th>\n",
       "    <th>valid_loss</th>\n",
       "    <th>accuracy_thresh</th>\n",
       "    <th>fbeta</th>\n",
       "  </tr>\n",
       "  <tr>\n",
       "    <th>1</th>\n",
       "    <th>0.151579</th>\n",
       "    <th>0.156014</th>\n",
       "    <th>0.935135</th>\n",
       "    <th>0.465652</th>\n",
       "  </tr>\n",
       "  <tr>\n",
       "    <th>2</th>\n",
       "    <th>0.151024</th>\n",
       "    <th>0.145989</th>\n",
       "    <th>0.935514</th>\n",
       "    <th>0.480170</th>\n",
       "  </tr>\n",
       "  <tr>\n",
       "    <th>3</th>\n",
       "    <th>0.148766</th>\n",
       "    <th>0.224950</th>\n",
       "    <th>0.934606</th>\n",
       "    <th>0.492159</th>\n",
       "  </tr>\n",
       "  <tr>\n",
       "    <th>4</th>\n",
       "    <th>0.146568</th>\n",
       "    <th>0.147229</th>\n",
       "    <th>0.937377</th>\n",
       "    <th>0.498471</th>\n",
       "  </tr>\n",
       "  <tr>\n",
       "    <th>5</th>\n",
       "    <th>0.147934</th>\n",
       "    <th>0.148684</th>\n",
       "    <th>0.937722</th>\n",
       "    <th>0.498551</th>\n",
       "  </tr>\n",
       "</table>\n"
      ],
      "text/plain": [
       "<IPython.core.display.HTML object>"
      ]
     },
     "metadata": {
      "tags": []
     },
     "output_type": "display_data"
    }
   ],
   "source": [
    "# 2nd training\n",
    "learn.fit(5, slice(lr1, lr2)) # this should be learn.fit_one_cycle()"
   ]
  },
  {
   "cell_type": "code",
   "execution_count": 0,
   "metadata": {
    "colab": {},
    "colab_type": "code",
    "id": "PqbVuro-7PsU"
   },
   "outputs": [],
   "source": [
    "# Saving stage 2\n",
    "learn.save('stage-2-64-resnet34')"
   ]
  },
  {
   "cell_type": "markdown",
   "metadata": {
    "colab_type": "text",
    "id": "7veWk_TcAvrB"
   },
   "source": [
    "### 6. Creating a new data object\n",
    "So now that we have trained our first model, we will continue but with a new data object \n",
    "\n",
    "What will be different here is the image sizes will be 128x128 "
   ]
  },
  {
   "cell_type": "code",
   "execution_count": 0,
   "metadata": {
    "colab": {},
    "colab_type": "code",
    "id": "uWb8YqMxA47N"
   },
   "outputs": [],
   "source": [
    "# Creating new data object\n",
    "\n",
    "sz = 128 # We now increase the size to 128x128\n",
    "\n",
    "data = (ImageItemList.from_csv('/content', 'train.csv', folder='train', suffix='_green.png')\n",
    "        .random_split_by_pct(0.2)  # 20% will be split into a valid set\n",
    "        .label_from_df(sep=' ')\n",
    "        .transform(tfms, size=sz)\n",
    "        .databunch().normalize(imagenet_stats))"
   ]
  },
  {
   "cell_type": "code",
   "execution_count": 0,
   "metadata": {
    "colab": {},
    "colab_type": "code",
    "id": "1CfWpRHHBfJu"
   },
   "outputs": [],
   "source": [
    "learn.data = data"
   ]
  },
  {
   "cell_type": "code",
   "execution_count": 0,
   "metadata": {
    "colab": {},
    "colab_type": "code",
    "id": "Qut6WAATBp0k"
   },
   "outputs": [],
   "source": [
    "# Now we have to freeze all the layers\n",
    "learn.freeze()"
   ]
  },
  {
   "cell_type": "code",
   "execution_count": 63,
   "metadata": {
    "colab": {
     "base_uri": "https://localhost:8080/",
     "height": 453
    },
    "colab_type": "code",
    "id": "roKUjnRVBs4s",
    "outputId": "b70e378e-8a89-4db9-8b22-ce63240a14b2"
   },
   "outputs": [
    {
     "data": {
      "text/html": [
       "\n",
       "    <div>\n",
       "        <style>\n",
       "            /* Turns off some styling */\n",
       "            progress {\n",
       "                /* gets rid of default border in Firefox and Opera. */\n",
       "                border: none;\n",
       "                /* Needs to be in here for Safari polyfill so background images work as expected. */\n",
       "                background-size: auto;\n",
       "            }\n",
       "            .progress-bar-interrupted, .progress-bar-interrupted::-webkit-progress-bar {\n",
       "                background: #F44336;\n",
       "            }\n",
       "        </style>\n",
       "      <progress value='0' class='' max='1', style='width:300px; height:20px; vertical-align: middle;'></progress>\n",
       "      0.00% [0/1 00:00<00:00]\n",
       "    </div>\n",
       "    \n",
       "<table style='width:375px; margin-bottom:10px'>\n",
       "  <tr>\n",
       "    <th>epoch</th>\n",
       "    <th>train_loss</th>\n",
       "    <th>valid_loss</th>\n",
       "    <th>accuracy_thresh</th>\n",
       "    <th>fbeta</th>\n",
       "  </tr>\n",
       "</table>\n",
       "\n",
       "\n",
       "    <div>\n",
       "        <style>\n",
       "            /* Turns off some styling */\n",
       "            progress {\n",
       "                /* gets rid of default border in Firefox and Opera. */\n",
       "                border: none;\n",
       "                /* Needs to be in here for Safari polyfill so background images work as expected. */\n",
       "                background-size: auto;\n",
       "            }\n",
       "            .progress-bar-interrupted, .progress-bar-interrupted::-webkit-progress-bar {\n",
       "                background: #F44336;\n",
       "            }\n",
       "        </style>\n",
       "      <progress value='0' class='progress-bar-interrupted' max='388', style='width:300px; height:20px; vertical-align: middle;'></progress>\n",
       "      Interrupted\n",
       "    </div>\n",
       "    "
      ],
      "text/plain": [
       "<IPython.core.display.HTML object>"
      ]
     },
     "metadata": {
      "tags": []
     },
     "output_type": "display_data"
    },
    {
     "name": "stdout",
     "output_type": "stream",
     "text": [
      "LR Finder is complete, type {learner_name}.recorder.plot() to see the graph.\n"
     ]
    },
    {
     "data": {
      "image/png": "[encoded data removed]",
      "text/plain": [
       "<matplotlib.figure.Figure at 0x7f9075b9b198>"
      ]
     },
     "metadata": {
      "tags": []
     },
     "output_type": "display_data"
    }
   ],
   "source": [
    "# finding optimal learning rate\n",
    "learn.lr_find()\n",
    "learn.recorder.plot()"
   ]
  },
  {
   "cell_type": "code",
   "execution_count": 0,
   "metadata": {
    "colab": {},
    "colab_type": "code",
    "id": "WuN3xYEtBwPs"
   },
   "outputs": [],
   "source": [
    "# Picking new learning rate\n",
    "lr = 1e-2/2 # 0.005"
   ]
  },
  {
   "cell_type": "code",
   "execution_count": 70,
   "metadata": {
    "colab": {
     "base_uri": "https://localhost:8080/",
     "height": 178
    },
    "colab_type": "code",
    "id": "3zsIxY1cCa1z",
    "outputId": "9ed2795b-458e-4f12-e727-f40d143bae1a"
   },
   "outputs": [
    {
     "data": {
      "text/html": [
       "Total time: 27:55 <p><table style='width:375px; margin-bottom:10px'>\n",
       "  <tr>\n",
       "    <th>epoch</th>\n",
       "    <th>train_loss</th>\n",
       "    <th>valid_loss</th>\n",
       "    <th>accuracy_thresh</th>\n",
       "    <th>fbeta</th>\n",
       "  </tr>\n",
       "  <tr>\n",
       "    <th>1</th>\n",
       "    <th>0.146832</th>\n",
       "    <th>0.141256</th>\n",
       "    <th>0.938112</th>\n",
       "    <th>0.525138</th>\n",
       "  </tr>\n",
       "  <tr>\n",
       "    <th>2</th>\n",
       "    <th>0.143011</th>\n",
       "    <th>0.140478</th>\n",
       "    <th>0.939785</th>\n",
       "    <th>0.553797</th>\n",
       "  </tr>\n",
       "  <tr>\n",
       "    <th>3</th>\n",
       "    <th>0.139469</th>\n",
       "    <th>0.143046</th>\n",
       "    <th>0.939336</th>\n",
       "    <th>0.563149</th>\n",
       "  </tr>\n",
       "  <tr>\n",
       "    <th>4</th>\n",
       "    <th>0.138916</th>\n",
       "    <th>0.142102</th>\n",
       "    <th>0.940089</th>\n",
       "    <th>0.574794</th>\n",
       "  </tr>\n",
       "  <tr>\n",
       "    <th>5</th>\n",
       "    <th>0.137081</th>\n",
       "    <th>0.134061</th>\n",
       "    <th>0.941353</th>\n",
       "    <th>0.570709</th>\n",
       "  </tr>\n",
       "</table>\n"
      ],
      "text/plain": [
       "<IPython.core.display.HTML object>"
      ]
     },
     "metadata": {
      "tags": []
     },
     "output_type": "display_data"
    }
   ],
   "source": [
    "learn.fit_one_cycle(5, slice(lr)) # run this only up to 4 epochs"
   ]
  },
  {
   "cell_type": "code",
   "execution_count": 0,
   "metadata": {
    "colab": {},
    "colab_type": "code",
    "id": "7vocGdBqCtbJ"
   },
   "outputs": [],
   "source": [
    "# Saving this model\n",
    "learn.save('stage-1-128-resnet34')"
   ]
  },
  {
   "cell_type": "code",
   "execution_count": 0,
   "metadata": {
    "colab": {},
    "colab_type": "code",
    "id": "3MfXK5J2Jf3h"
   },
   "outputs": [],
   "source": [
    "# Unfreezing the layers\n",
    "learn.unfreeze()"
   ]
  },
  {
   "cell_type": "code",
   "execution_count": 73,
   "metadata": {
    "colab": {
     "base_uri": "https://localhost:8080/",
     "height": 457
    },
    "colab_type": "code",
    "id": "QKYRdp83JjSh",
    "outputId": "01e9dd20-c19f-4f51-e704-fef5df2ec238"
   },
   "outputs": [
    {
     "data": {
      "text/html": [
       "\n",
       "    <div>\n",
       "        <style>\n",
       "            /* Turns off some styling */\n",
       "            progress {\n",
       "                /* gets rid of default border in Firefox and Opera. */\n",
       "                border: none;\n",
       "                /* Needs to be in here for Safari polyfill so background images work as expected. */\n",
       "                background-size: auto;\n",
       "            }\n",
       "            .progress-bar-interrupted, .progress-bar-interrupted::-webkit-progress-bar {\n",
       "                background: #F44336;\n",
       "            }\n",
       "        </style>\n",
       "      <progress value='0' class='' max='1', style='width:300px; height:20px; vertical-align: middle;'></progress>\n",
       "      0.00% [0/1 00:00<00:00]\n",
       "    </div>\n",
       "    \n",
       "<table style='width:375px; margin-bottom:10px'>\n",
       "  <tr>\n",
       "    <th>epoch</th>\n",
       "    <th>train_loss</th>\n",
       "    <th>valid_loss</th>\n",
       "    <th>accuracy_thresh</th>\n",
       "    <th>fbeta</th>\n",
       "  </tr>\n",
       "</table>\n",
       "\n",
       "\n",
       "    <div>\n",
       "        <style>\n",
       "            /* Turns off some styling */\n",
       "            progress {\n",
       "                /* gets rid of default border in Firefox and Opera. */\n",
       "                border: none;\n",
       "                /* Needs to be in here for Safari polyfill so background images work as expected. */\n",
       "                background-size: auto;\n",
       "            }\n",
       "            .progress-bar-interrupted, .progress-bar-interrupted::-webkit-progress-bar {\n",
       "                background: #F44336;\n",
       "            }\n",
       "        </style>\n",
       "      <progress value='0' class='progress-bar-interrupted' max='388', style='width:300px; height:20px; vertical-align: middle;'></progress>\n",
       "      Interrupted\n",
       "    </div>\n",
       "    "
      ],
      "text/plain": [
       "<IPython.core.display.HTML object>"
      ]
     },
     "metadata": {
      "tags": []
     },
     "output_type": "display_data"
    },
    {
     "name": "stdout",
     "output_type": "stream",
     "text": [
      "LR Finder is complete, type {learner_name}.recorder.plot() to see the graph.\n"
     ]
    },
    {
     "data": {
      "image/png": "[encoded data removed]",
      "text/plain": [
       "<matplotlib.figure.Figure at 0x7f90fb93b9e8>"
      ]
     },
     "metadata": {
      "tags": []
     },
     "output_type": "display_data"
    }
   ],
   "source": [
    "# let's find optimal learning rates\n",
    "learn.lr_find()\n",
    "learn.recorder.plot()"
   ]
  },
  {
   "cell_type": "code",
   "execution_count": 0,
   "metadata": {
    "colab": {},
    "colab_type": "code",
    "id": "Av0hLO-aJnYu"
   },
   "outputs": [],
   "source": [
    "# Picking optimal learning rates\n",
    "lr1 = 0.00001\n",
    "lr2 = 0.001"
   ]
  },
  {
   "cell_type": "code",
   "execution_count": 78,
   "metadata": {
    "colab": {
     "base_uri": "https://localhost:8080/",
     "height": 178
    },
    "colab_type": "code",
    "id": "PE0cOFrFKXPW",
    "outputId": "4a3b8fab-ab2b-4c9b-90d4-14732bd9f957"
   },
   "outputs": [
    {
     "data": {
      "text/html": [
       "Total time: 28:24 <p><table style='width:375px; margin-bottom:10px'>\n",
       "  <tr>\n",
       "    <th>epoch</th>\n",
       "    <th>train_loss</th>\n",
       "    <th>valid_loss</th>\n",
       "    <th>accuracy_thresh</th>\n",
       "    <th>fbeta</th>\n",
       "  </tr>\n",
       "  <tr>\n",
       "    <th>1</th>\n",
       "    <th>0.139678</th>\n",
       "    <th>0.134900</th>\n",
       "    <th>0.939354</th>\n",
       "    <th>0.568302</th>\n",
       "  </tr>\n",
       "  <tr>\n",
       "    <th>2</th>\n",
       "    <th>0.136478</th>\n",
       "    <th>0.131129</th>\n",
       "    <th>0.941405</th>\n",
       "    <th>0.569515</th>\n",
       "  </tr>\n",
       "  <tr>\n",
       "    <th>3</th>\n",
       "    <th>0.132840</th>\n",
       "    <th>0.128643</th>\n",
       "    <th>0.942779</th>\n",
       "    <th>0.590582</th>\n",
       "  </tr>\n",
       "  <tr>\n",
       "    <th>4</th>\n",
       "    <th>0.131693</th>\n",
       "    <th>0.125389</th>\n",
       "    <th>0.944055</th>\n",
       "    <th>0.606241</th>\n",
       "  </tr>\n",
       "  <tr>\n",
       "    <th>5</th>\n",
       "    <th>0.128459</th>\n",
       "    <th>0.131260</th>\n",
       "    <th>0.944273</th>\n",
       "    <th>0.609703</th>\n",
       "  </tr>\n",
       "</table>\n"
      ],
      "text/plain": [
       "<IPython.core.display.HTML object>"
      ]
     },
     "metadata": {
      "tags": []
     },
     "output_type": "display_data"
    }
   ],
   "source": [
    "# Training model once again\n",
    "learn.fit_one_cycle(5, slice(lr1, lr2))"
   ]
  },
  {
   "cell_type": "code",
   "execution_count": 0,
   "metadata": {
    "colab": {},
    "colab_type": "code",
    "id": "w_J1s6VsK1Yh"
   },
   "outputs": [],
   "source": [
    "# Saving the model\n",
    "learn.save('stage-2-128-resnet34')"
   ]
  },
  {
   "cell_type": "markdown",
   "metadata": {
    "colab_type": "text",
    "id": "5OMvAp23Rjhb"
   },
   "source": [
    "### 7. Create another Data object\n",
    "This time, our images will be of size 256. \n",
    "\n",
    "We will repeat as before"
   ]
  },
  {
   "cell_type": "code",
   "execution_count": 0,
   "metadata": {
    "colab": {},
    "colab_type": "code",
    "id": "hxTidOAoRqDv"
   },
   "outputs": [],
   "source": [
    "# Creating new data object\n",
    "\n",
    "sz = 256 # We now increase the size to 256x256\n",
    "\n",
    "data = (ImageItemList.from_csv('/content', 'train.csv', folder='train', suffix='_green.png')\n",
    "        .random_split_by_pct(0.2)  # 20% will be split into a valid set\n",
    "        .label_from_df(sep=' ')\n",
    "        .transform(tfms, size=sz)\n",
    "        .databunch().normalize(imagenet_stats))\n",
    "\n",
    "learn.data = data"
   ]
  },
  {
   "cell_type": "code",
   "execution_count": 0,
   "metadata": {
    "colab": {},
    "colab_type": "code",
    "id": "i-UFzNffR5R1"
   },
   "outputs": [],
   "source": [
    "# Freeze the layers\n",
    "learn.freeze()"
   ]
  },
  {
   "cell_type": "code",
   "execution_count": 82,
   "metadata": {
    "colab": {
     "base_uri": "https://localhost:8080/",
     "height": 453
    },
    "colab_type": "code",
    "id": "guJKa2IiR9IM",
    "outputId": "a6f67ebb-92c2-42a3-bff5-10cf27093b94"
   },
   "outputs": [
    {
     "data": {
      "text/html": [
       "\n",
       "    <div>\n",
       "        <style>\n",
       "            /* Turns off some styling */\n",
       "            progress {\n",
       "                /* gets rid of default border in Firefox and Opera. */\n",
       "                border: none;\n",
       "                /* Needs to be in here for Safari polyfill so background images work as expected. */\n",
       "                background-size: auto;\n",
       "            }\n",
       "            .progress-bar-interrupted, .progress-bar-interrupted::-webkit-progress-bar {\n",
       "                background: #F44336;\n",
       "            }\n",
       "        </style>\n",
       "      <progress value='0' class='' max='1', style='width:300px; height:20px; vertical-align: middle;'></progress>\n",
       "      0.00% [0/1 00:00<00:00]\n",
       "    </div>\n",
       "    \n",
       "<table style='width:375px; margin-bottom:10px'>\n",
       "  <tr>\n",
       "    <th>epoch</th>\n",
       "    <th>train_loss</th>\n",
       "    <th>valid_loss</th>\n",
       "    <th>accuracy_thresh</th>\n",
       "    <th>fbeta</th>\n",
       "  </tr>\n",
       "</table>\n",
       "\n",
       "\n",
       "    <div>\n",
       "        <style>\n",
       "            /* Turns off some styling */\n",
       "            progress {\n",
       "                /* gets rid of default border in Firefox and Opera. */\n",
       "                border: none;\n",
       "                /* Needs to be in here for Safari polyfill so background images work as expected. */\n",
       "                background-size: auto;\n",
       "            }\n",
       "            .progress-bar-interrupted, .progress-bar-interrupted::-webkit-progress-bar {\n",
       "                background: #F44336;\n",
       "            }\n",
       "        </style>\n",
       "      <progress value='0' class='progress-bar-interrupted' max='388', style='width:300px; height:20px; vertical-align: middle;'></progress>\n",
       "      Interrupted\n",
       "    </div>\n",
       "    "
      ],
      "text/plain": [
       "<IPython.core.display.HTML object>"
      ]
     },
     "metadata": {
      "tags": []
     },
     "output_type": "display_data"
    },
    {
     "name": "stdout",
     "output_type": "stream",
     "text": [
      "LR Finder is complete, type {learner_name}.recorder.plot() to see the graph.\n"
     ]
    },
    {
     "data": {
      "image/png": "[encoded data removed]",
      "text/plain": [
       "<matplotlib.figure.Figure at 0x7f9076275c88>"
      ]
     },
     "metadata": {
      "tags": []
     },
     "output_type": "display_data"
    }
   ],
   "source": [
    "# Find optimal learning rate\n",
    "learn.lr_find()\n",
    "learn.recorder.plot()"
   ]
  },
  {
   "cell_type": "code",
   "execution_count": 0,
   "metadata": {
    "colab": {},
    "colab_type": "code",
    "id": "Lt0ReHTQSAbj"
   },
   "outputs": [],
   "source": [
    "# picking optimal learning rate\n",
    "lr = 0.03"
   ]
  },
  {
   "cell_type": "code",
   "execution_count": 84,
   "metadata": {
    "colab": {
     "base_uri": "https://localhost:8080/",
     "height": 178
    },
    "colab_type": "code",
    "id": "BOhCi-UhSskT",
    "outputId": "c7bed6cc-00bc-44cb-faea-bfccb7b433d3"
   },
   "outputs": [
    {
     "data": {
      "text/html": [
       "Total time: 39:18 <p><table style='width:375px; margin-bottom:10px'>\n",
       "  <tr>\n",
       "    <th>epoch</th>\n",
       "    <th>train_loss</th>\n",
       "    <th>valid_loss</th>\n",
       "    <th>accuracy_thresh</th>\n",
       "    <th>fbeta</th>\n",
       "  </tr>\n",
       "  <tr>\n",
       "    <th>1</th>\n",
       "    <th>0.138205</th>\n",
       "    <th>0.196918</th>\n",
       "    <th>0.947331</th>\n",
       "    <th>0.531779</th>\n",
       "  </tr>\n",
       "  <tr>\n",
       "    <th>2</th>\n",
       "    <th>0.142225</th>\n",
       "    <th>0.137274</th>\n",
       "    <th>0.943107</th>\n",
       "    <th>0.587090</th>\n",
       "  </tr>\n",
       "  <tr>\n",
       "    <th>3</th>\n",
       "    <th>0.132404</th>\n",
       "    <th>0.193482</th>\n",
       "    <th>0.942089</th>\n",
       "    <th>0.627778</th>\n",
       "  </tr>\n",
       "  <tr>\n",
       "    <th>4</th>\n",
       "    <th>0.126110</th>\n",
       "    <th>0.137887</th>\n",
       "    <th>0.947716</th>\n",
       "    <th>0.637722</th>\n",
       "  </tr>\n",
       "  <tr>\n",
       "    <th>5</th>\n",
       "    <th>0.119828</th>\n",
       "    <th>0.113890</th>\n",
       "    <th>0.947866</th>\n",
       "    <th>0.660633</th>\n",
       "  </tr>\n",
       "</table>\n"
      ],
      "text/plain": [
       "<IPython.core.display.HTML object>"
      ]
     },
     "metadata": {
      "tags": []
     },
     "output_type": "display_data"
    }
   ],
   "source": [
    "# Training the model\n",
    "learn.fit_one_cycle(5, slice(lr))"
   ]
  },
  {
   "cell_type": "code",
   "execution_count": 0,
   "metadata": {
    "colab": {},
    "colab_type": "code",
    "id": "gSSZiAqIS2w6"
   },
   "outputs": [],
   "source": [
    "# let's now save the model\n",
    "learn.save('stage-1-256-resnet34')"
   ]
  },
  {
   "cell_type": "code",
   "execution_count": 0,
   "metadata": {
    "colab": {},
    "colab_type": "code",
    "id": "0AXQTLBJjxAZ"
   },
   "outputs": [],
   "source": [
    "# Loading model\n",
    "learn.load('stage-1-256-resnet34')"
   ]
  },
  {
   "cell_type": "code",
   "execution_count": 0,
   "metadata": {
    "colab": {},
    "colab_type": "code",
    "id": "cI4vVjxzd2EC"
   },
   "outputs": [],
   "source": [
    "sz = 512 # We now increase the size to 512x512\n",
    "\n",
    "data = (ImageItemList.from_csv('/content', 'train.csv', folder='train', suffix='_green.png')\n",
    "        .random_split_by_pct(0.2)  # 20% will be split into a valid set\n",
    "        .label_from_df(sep=' ')\n",
    "        .transform(tfms, size=sz)\n",
    "        .databunch().normalize(imagenet_stats))\n",
    "\n",
    "learn.data = data"
   ]
  },
  {
   "cell_type": "code",
   "execution_count": 0,
   "metadata": {
    "colab": {},
    "colab_type": "code",
    "id": "7_sDZzQaomOQ"
   },
   "outputs": [],
   "source": [
    "# freezing layers\n",
    "learn.freeze()"
   ]
  },
  {
   "cell_type": "code",
   "execution_count": 0,
   "metadata": {
    "colab": {},
    "colab_type": "code",
    "id": "y7VO5tm-oqso"
   },
   "outputs": [],
   "source": [
    "# Finding optimal learning rate\n",
    "learn.lr_find()\n",
    "learn.recorder.plot()"
   ]
  },
  {
   "cell_type": "code",
   "execution_count": 99,
   "metadata": {
    "colab": {
     "base_uri": "https://localhost:8080/",
     "height": 35
    },
    "colab_type": "code",
    "id": "5uySiTbpouWX",
    "outputId": "b82b03ef-0b6c-4692-9e94-c35bf4599499"
   },
   "outputs": [
    {
     "name": "stdout",
     "output_type": "stream",
     "text": [
      "models\tsample_data  test  train  train.csv\n"
     ]
    }
   ],
   "source": [
    "!ls"
   ]
  },
  {
   "cell_type": "code",
   "execution_count": 0,
   "metadata": {
    "colab": {},
    "colab_type": "code",
    "id": "m9sZ3iTmpXtG"
   },
   "outputs": [],
   "source": []
  }
 ],
 "metadata": {
  "accelerator": "GPU",
  "colab": {
   "collapsed_sections": [],
   "name": "HumanProteinAtlasImageClassification.ipynb",
   "provenance": [],
   "toc_visible": true,
   "version": "0.3.2"
  },
  "kernelspec": {
   "display_name": "Python 3",
   "language": "python",
   "name": "python3"
  },
  "language_info": {
   "codemirror_mode": {
    "name": "ipython",
    "version": 3
   },
   "file_extension": ".py",
   "mimetype": "text/x-python",
   "name": "python",
   "nbconvert_exporter": "python",
   "pygments_lexer": "ipython3",
   "version": "3.6.6"
  }
 },
 "nbformat": 4,
 "nbformat_minor": 1
}
